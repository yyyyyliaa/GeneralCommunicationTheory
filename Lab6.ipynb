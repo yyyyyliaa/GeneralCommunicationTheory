{
 "cells": [
  {
   "cell_type": "code",
   "execution_count": 56,
   "id": "7297af5a-61a2-4894-aa6e-758faa73e689",
   "metadata": {},
   "outputs": [],
   "source": [
    "import numpy as np\n",
    "import matplotlib.pyplot as plt\n",
    "from scipy.special import comb"
   ]
  },
  {
   "cell_type": "code",
   "execution_count": 57,
   "id": "c7b298ff-bb8d-42e0-9720-e580ee260855",
   "metadata": {},
   "outputs": [],
   "source": [
    "def Cnk(n, k):\n",
    "    if k == 0 or k == n:\n",
    "        return 1\n",
    "    else:\n",
    "        return Cnk(n - 1, k - 1) * n / k"
   ]
  },
  {
   "cell_type": "code",
   "execution_count": 58,
   "id": "0f1b5fb5-ba16-4fed-aa2b-ed559a797cf0",
   "metadata": {},
   "outputs": [],
   "source": [
    "np.random.seed(0)"
   ]
  },
  {
   "cell_type": "code",
   "execution_count": 59,
   "id": "6a61ade9-ef12-450f-87db-df330c399d7a",
   "metadata": {},
   "outputs": [],
   "source": [
    "q = 2\n",
    "T = 1e-6 #T = 1 мкс (микросекунда)\n",
    "f0 = 40e6  # 40 МГц (мегагерц)\n",
    "dtf = 1 / T\n",
    "Ns = 50\n",
    "A = 1\n",
    "dt = 1 / (Ns * f0)"
   ]
  },
  {
   "cell_type": "code",
   "execution_count": 60,
   "id": "4dc67183-ca6e-4039-b4e3-0bcd92d856a0",
   "metadata": {},
   "outputs": [],
   "source": [
    "t = np.arange(0, T, dt)\n",
    "f = np.zeros(q)\n",
    "s = np.zeros((q, len(t)))\n",
    "f1 = np.zeros((q, len(t)))\n",
    "f2 = np.zeros((q, len(t)))\n",
    "a = np.zeros((q, len(t)))\n",
    "sina = np.zeros((q, len(t)))\n",
    "cosa = np.zeros((q, len(t)))"
   ]
  },
  {
   "cell_type": "code",
   "execution_count": 61,
   "id": "55a06b1c-2255-4ecd-be64-46c48d247a40",
   "metadata": {},
   "outputs": [],
   "source": [
    "for i in range(q):\n",
    "    f[i] = f0 + (i - 1) * dtf\n",
    "    s[i, :] = A * np.cos(2 * np.pi * f[i] * t)\n",
    "    f1[i, :] = np.sqrt(2 / T) * np.cos(2 * np.pi * f[i] * t)\n",
    "    f2[i, :] = np.sqrt(2 / T) * np.sin(2 * np.pi * f[i] * t)\n",
    "    a[i, :] = 2 * np.pi * f[i] * t\n",
    "    sina[i, :] = np.sin(a[i])\n",
    "    cosa[i, :] = np.cos(a[i])"
   ]
  },
  {
   "cell_type": "code",
   "execution_count": 62,
   "id": "5a6b4411-68d6-442e-b61b-24a8740e8ce5",
   "metadata": {},
   "outputs": [],
   "source": [
    "E = np.linalg.norm(s[0, :]) ** 2\n",
    "max_value = 0\n",
    "index_max = 0\n",
    "Nerrmax = 50\n",
    "num_tests = 30000\n",
    "SNRdb = np.arange(1, 11)\n",
    "Pe = np.zeros(len(SNRdb))\n",
    "Pe_teor = np.zeros(len(SNRdb))"
   ]
  },
  {
   "cell_type": "code",
   "execution_count": 63,
   "id": "0af24025-2b7e-4e9b-92c4-423beb6f09e3",
   "metadata": {},
   "outputs": [],
   "source": [
    "e = 0\n",
    "m = np.sqrt(e / 2)\n",
    "sigm = np.sqrt((1 - e) / 2)"
   ]
  },
  {
   "cell_type": "code",
   "execution_count": 64,
   "id": "78a7e859-3fb7-46de-86cd-bd13c98e7e1a",
   "metadata": {},
   "outputs": [
    {
     "name": "stdout",
     "output_type": "stream",
     "text": [
      "Pe 0.28735632183908044\n",
      "Pe 0.24752475247524752\n",
      "Pe 0.24390243902439024\n",
      "Pe 0.18796992481203006\n",
      "Pe 0.2824858757062147\n",
      "Pe 0.15060240963855423\n",
      "Pe 0.14084507042253522\n",
      "Pe 0.13736263736263737\n",
      "Pe 0.07936507936507936\n",
      "Pe 0.07836990595611286\n"
     ]
    }
   ],
   "source": [
    "for ns in range(len(SNRdb)):\n",
    "    SNR = 10 ** (SNRdb[ns] / 10)\n",
    "    N0 = E / SNR\n",
    "    sigma = np.sqrt(N0 / 2)\n",
    "    Nerr = 0\n",
    "    Ntest = 0\n",
    "    Pe_t = 0\n",
    "    for j in range(1, q):\n",
    "        Pe_t += comb(q-1, j) * ((-1) ** (j + 1)) * (1/(1+j+j*(1-e)*E/N0)) * np.exp(-(j*e*E/N0)/(1+j+j*(1-e)*E/N0))\n",
    "    last_test = Ntest\n",
    "\n",
    "    \n",
    "    while Nerr < Nerrmax:\n",
    "        i = np.random.randint(0, q)\n",
    "        x = np.random.normal(m, sigm)\n",
    "        y = np.random.normal(m, sigm)\n",
    "        m_ = np.sqrt(x ** 2 + y ** 2)\n",
    "        \n",
    "        b = 2 * np.pi * np.random.rand()\n",
    "        j = cosa[i]*np.cos(b) - sina[i]*np.sin(b)\n",
    "        r = m_ * A * j + sigma * np.random.randn(len(t))\n",
    "        \n",
    "        rci = np.zeros(q)\n",
    "        rsi = np.zeros(q)\n",
    "        ni = np.zeros(q)\n",
    "        \n",
    "        for j in range(q):\n",
    "            rci[j] = np.dot(r, f1[j, :])\n",
    "            rsi[j] = np.dot(r, f2[j, :])\n",
    "            ni[j] = (rci[j] ** 2) + (rsi[j] ** 2)\n",
    "        \n",
    "        max_value = np.max(ni)\n",
    "        index_max = np.argmax(ni)\n",
    "        \n",
    "        if index_max != i:\n",
    "            Nerr += 1\n",
    "            # print(f\"{index_max} != {i}\")\n",
    "            # print(f\"SNRdb = {SNRdb[ns]} | {Nerr} Nerr | {Ntest} Ntest\")\n",
    "        \n",
    "        Ntest += 1\n",
    "        \n",
    "        if Ntest - last_test > num_tests:\n",
    "            # print(f\"> {num_tests} tests\")\n",
    "            # print(\"Pe ~= 0\")\n",
    "            break\n",
    "    \n",
    "    Pe[ns] = Nerr / Ntest\n",
    "    Pe_teor[ns] = Pe_t\n",
    "    print(f\"Pe {Pe[ns]}\")"
   ]
  },
  {
   "cell_type": "code",
   "execution_count": 65,
   "id": "88877a7a-1187-411d-9e0c-85f4fe5af381",
   "metadata": {},
   "outputs": [
    {
     "data": {
      "image/png": "[encoded data removed]",
      "text/plain": [
       "<Figure size 640x480 with 1 Axes>"
      ]
     },
     "metadata": {},
     "output_type": "display_data"
    }
   ],
   "source": [
    "plt.figure(1)\n",
    "plt.semilogy(SNRdb, Pe, 'r', label='Pe_pract', linewidth=2)\n",
    "plt.semilogy(SNRdb, Pe_teor, 'b', label='Pe_teor', linewidth=2)\n",
    "plt.title('e = {}'.format(e))\n",
    "plt.xlabel('SNRdb')\n",
    "plt.ylabel('Pe')\n",
    "plt.legend()\n",
    "plt.grid(True)\n",
    "plt.show()"
   ]
  }
 ],
 "metadata": {
  "kernelspec": {
   "display_name": "Python 3 (ipykernel)",
   "language": "python",
   "name": "python3"
  },
  "language_info": {
   "codemirror_mode": {
    "name": "ipython",
    "version": 3
   },
   "file_extension": ".py",
   "mimetype": "text/x-python",
   "name": "python",
   "nbconvert_exporter": "python",
   "pygments_lexer": "ipython3",
   "version": "3.10.4"
  }
 },
 "nbformat": 4,
 "nbformat_minor": 5
}

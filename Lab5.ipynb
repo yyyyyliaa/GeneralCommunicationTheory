{
 "cells": [
  {
   "cell_type": "code",
   "execution_count": 15,
   "id": "031068ec-6821-45ba-bb47-f3db328f9346",
   "metadata": {},
   "outputs": [],
   "source": [
    "import numpy as np\n",
    "import matplotlib.pyplot as plt"
   ]
  },
  {
   "cell_type": "code",
   "execution_count": 16,
   "id": "ebc212b3-ea15-4b21-8e2c-2b2fbeac0bbc",
   "metadata": {},
   "outputs": [],
   "source": [
    "def Cnk(n, k):\n",
    "    if k == 0 or k == n:\n",
    "        return 1\n",
    "    else:\n",
    "        return Cnk(n - 1, k - 1) * n / k"
   ]
  },
  {
   "cell_type": "code",
   "execution_count": 17,
   "id": "e8b5b232-6721-4e49-bf6c-fca0eeb4eedf",
   "metadata": {},
   "outputs": [],
   "source": [
    "np.random.seed(42)"
   ]
  },
  {
   "cell_type": "code",
   "execution_count": 18,
   "id": "bf4f563a-233b-4fc6-b9f0-3e4e3b1b61ae",
   "metadata": {},
   "outputs": [],
   "source": [
    "q = 2\n",
    "T = 1e-6 #T = 1 мкс (микросекунда)\n",
    "f0 = 40e6  # 40 МГц (мегагерц)\n",
    "dtf = 1 / T\n",
    "Ns = 50\n",
    "A = 1\n",
    "dt = 1 / (Ns * f0)"
   ]
  },
  {
   "cell_type": "code",
   "execution_count": 19,
   "id": "96bb2b98-4389-4339-9164-1ad509e1862e",
   "metadata": {},
   "outputs": [],
   "source": [
    "t = np.arange(0, T, dt)\n",
    "f = np.zeros(q)\n",
    "s = np.zeros((q, len(t)))\n",
    "f1 = np.zeros((q, len(t)))\n",
    "f2 = np.zeros((q, len(t)))\n",
    "a = np.zeros((q, len(t)))\n",
    "sina = np.zeros((q, len(t)))\n",
    "cosa = np.zeros((q, len(t)))"
   ]
  },
  {
   "cell_type": "code",
   "execution_count": 20,
   "id": "1ef5f44e-bbd2-4d33-852d-17bc0a91a7f8",
   "metadata": {},
   "outputs": [],
   "source": [
    "for i in range(1, q + 1):\n",
    "    f[i - 1] = f0 + (i - 1) * dtf\n",
    "    s[i - 1, :] = A * np.cos(2 * np.pi * f[i - 1] * t)\n",
    "    f1[i - 1, :] = np.sqrt(2 / T) * np.cos(2 * np.pi * f[i - 1] * t)\n",
    "    f2[i - 1, :] = np.sqrt(2 / T) * np.sin(2 * np.pi * f[i - 1] * t)\n",
    "    a[i - 1, :] = 2 * np.pi * f[i - 1] * t\n",
    "    sina[i - 1, :] = np.sin(a[i-1])\n",
    "    cosa[i - 1, :] = np.cos(a[i-1])"
   ]
  },
  {
   "cell_type": "code",
   "execution_count": 21,
   "id": "72d4c97f-415d-4bf4-8335-45cc38433597",
   "metadata": {},
   "outputs": [],
   "source": [
    "E = np.linalg.norm(s[0, :]) ** 2\n",
    "max_value = 0\n",
    "index_max = 0\n",
    "Nerrmax = 100\n",
    "num_tests = 50000\n",
    "SNRdb = np.arange(1, 11)\n",
    "Pe = np.zeros(len(SNRdb))\n",
    "Pe_teor = np.zeros(len(SNRdb))"
   ]
  },
  {
   "cell_type": "code",
   "execution_count": 22,
   "id": "2c5fb69b-221a-4314-988c-2e0e1e0061e4",
   "metadata": {},
   "outputs": [],
   "source": [
    "for ns in range(len(SNRdb)):\n",
    "    SNR = 10 ** (SNRdb[ns] / 10)\n",
    "    N0 = E / SNR\n",
    "    sigma = np.sqrt(N0 / 2)\n",
    "    Nerr = 0\n",
    "    Ntest = 0\n",
    "    Pe_t = 0\n",
    "    \n",
    "    for l in range(1, q):\n",
    "        Pe_t = Pe_t + Cnk(q - 1, l) * (-1) ** (l + 1) * 1 / (1 + l) * np.exp(-l / (l + 1) * E / N0)\n",
    "\n",
    "    last_test = Ntest\n",
    "\n",
    "    while Nerr < Nerrmax:\n",
    "        \n",
    "        i = np.random.randint(1, q+1)\n",
    "        b = 2 * np.pi * np.random.rand()\n",
    "        j = cosa[i-1]*np.cos(b) + sina[i-1]*np.sin(b)\n",
    "        r = j + sigma * np.random.randn(len(t))\n",
    "\n",
    "        rci = np.zeros(q)\n",
    "        rsi = np.zeros(q)\n",
    "        ni = np.zeros(q)\n",
    "\n",
    "        for j in range(q):\n",
    "            rci[j] = np.dot(r, f1[j, :])\n",
    "            rsi[j] = np.dot(r, f2[j, :])\n",
    "            ni[j] = (rci[j] ** 2) + (rsi[j] ** 2)\n",
    "\n",
    "        index_max = np.argmax(ni)\n",
    "\n",
    "        if index_max != (i - 1):\n",
    "            Nerr = Nerr + 1\n",
    "            # print(f'{index_max + 1} != {i}')\n",
    "            # print(f'SNRdb = {SNRdb[ns]} | {Nerr} Nerr | {Ntest} Ntest')\n",
    "\n",
    "        Ntest = Ntest + 1\n",
    "\n",
    "        # if Ntest - last_test > num_tests:\n",
    "        #     print(f'> {num_tests} tests')\n",
    "        #     print('Pe ~= 0')\n",
    "        #     break\n",
    "\n",
    "    Pe[ns] = Nerr / Ntest\n",
    "    Pe_teor[ns] = Pe_t\n",
    "    # print(f'Pe {Pe[ns]}')"
   ]
  },
  {
   "cell_type": "code",
   "execution_count": 23,
   "id": "f124fea0-06cd-4ab2-9a69-222c16329f78",
   "metadata": {},
   "outputs": [
    {
     "data": {
      "image/png": "[encoded data removed]",
      "text/plain": [
       "<Figure size 640x480 with 1 Axes>"
      ]
     },
     "metadata": {},
     "output_type": "display_data"
    }
   ],
   "source": [
    "plt.figure(1)\n",
    "plt.semilogy(SNRdb, Pe, 'r', label='Практическое Pe', linewidth=2)\n",
    "plt.semilogy(SNRdb, Pe_teor, 'blue', label='Теоретическое Pe', linewidth=2)\n",
    "plt.xlabel('SNRdb')\n",
    "plt.ylabel('Pe')\n",
    "plt.legend()\n",
    "plt.grid(True)\n",
    "plt.show()"
   ]
  },
  {
   "cell_type": "code",
   "execution_count": null,
   "id": "0aa4826d-60e7-4a8d-9055-e605abec6abf",
   "metadata": {},
   "outputs": [],
   "source": []
  }
 ],
 "metadata": {
  "kernelspec": {
   "display_name": "Python 3 (ipykernel)",
   "language": "python",
   "name": "python3"
  },
  "language_info": {
   "codemirror_mode": {
    "name": "ipython",
    "version": 3
   },
   "file_extension": ".py",
   "mimetype": "text/x-python",
   "name": "python",
   "nbconvert_exporter": "python",
   "pygments_lexer": "ipython3",
   "version": "3.10.4"
  }
 },
 "nbformat": 4,
 "nbformat_minor": 5
}

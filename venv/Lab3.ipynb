{
 "cells": [
  {
   "cell_type": "code",
   "execution_count": 2,
   "metadata": {
    "ExecuteTime": {
     "end_time": "2023-10-11T16:45:32.017512Z",
     "start_time": "2023-10-11T16:45:31.990604Z"
    }
   },
   "outputs": [],
   "source": [
    "import matplotlib.pyplot as plt\n",
    "import numpy as np\n",
    "import math"
   ]
  },
  {
   "cell_type": "code",
   "execution_count": 3,
   "metadata": {
    "ExecuteTime": {
     "end_time": "2023-10-11T16:45:34.044510Z",
     "start_time": "2023-10-11T16:45:34.037003Z"
    }
   },
   "outputs": [],
   "source": [
    "f0 = 2400 #Гц\n",
    "Vmod = 600 #Бод\n",
    "Vinf = 2400 #бит/с"
   ]
  },
  {
   "cell_type": "code",
   "execution_count": 4,
   "metadata": {
    "ExecuteTime": {
     "end_time": "2023-10-11T16:45:35.402942Z",
     "start_time": "2023-10-11T16:45:35.389159Z"
    }
   },
   "outputs": [],
   "source": [
    "T = 1 / Vmod\n",
    "m = math.ceil(Vinf / Vmod)\n",
    "q = 2 ** m \n",
    "A = 1 #амплитуда\n",
    "Ns = 40\n",
    "dt = (1/f0)/Ns"
   ]
  },
  {
   "cell_type": "code",
   "execution_count": 5,
   "metadata": {
    "ExecuteTime": {
     "end_time": "2023-10-11T16:45:35.828752Z",
     "start_time": "2023-10-11T16:45:35.818193Z"
    }
   },
   "outputs": [],
   "source": [
    "#Получение коэффициентов по номеру сигнала\n",
    "def getSi12(i):\n",
    "    i1 = i // np.sqrt(q)\n",
    "    i2 = i % np.sqrt(q)\n",
    "    si1 = A*(1 - ((2*i1)/(np.sqrt(q)-1)))\n",
    "    si2 = A*(1 - ((2*i2)/(np.sqrt(q)-1)))\n",
    "    return si1, si2\n",
    "\n",
    "\n",
    "S = lambda si, t:   si[0] * np.sqrt(2 / T) * \\\n",
    "                    np.cos(2 * np.pi * f0 * t) + \\\n",
    "                    si[1] * np.sqrt(2 / T) * \\\n",
    "                    np.sin(2 * np.pi * f0 * t)\n",
    "\n",
    "#Ортонормированные функции \n",
    "phi1 = lambda t: np.sqrt(2 / T) *  np.cos(2 * np.pi * f0 * t) #3.1\n",
    "phi2 = lambda t: np.sqrt(2 / T) *  np.sin(2 * np.pi * f0 * t)                    "
   ]
  },
  {
   "cell_type": "code",
   "execution_count": 6,
   "metadata": {
    "ExecuteTime": {
     "end_time": "2023-10-11T16:45:36.347015Z",
     "start_time": "2023-10-11T16:45:36.341836Z"
    }
   },
   "outputs": [],
   "source": [
    "t = np.arange(0, T, dt)"
   ]
  },
  {
   "cell_type": "code",
   "execution_count": 7,
   "metadata": {
    "ExecuteTime": {
     "end_time": "2023-10-11T16:45:36.850797Z",
     "start_time": "2023-10-11T16:45:36.833434Z"
    }
   },
   "outputs": [
    {
     "name": "stdout",
     "output_type": "stream",
     "text": [
      "(phi1, phi1) = 0.987652948386578\n",
      "(phi1, phi2) = 0.0009656781074217635\n",
      "(phi2, phi1) = 0.0009656781074217635\n",
      "(phi2, phi2) = 0.9998470516134227\n"
     ]
    }
   ],
   "source": [
    "#Проверка равенства (3.1)\n",
    "print('(phi1, phi1) = {}'.format(np.trapz(phi1(t) * phi1(t), dx=dt)))\n",
    "print('(phi1, phi2) = {}'.format(np.trapz(phi1(t) * phi2(t), dx=dt)))\n",
    "print('(phi2, phi1) = {}'.format(np.trapz(phi2(t) * phi1(t), dx=dt)))\n",
    "print('(phi2, phi2) = {}'.format(np.trapz(phi2(t) * phi2(t), dx=dt)))"
   ]
  },
  {
   "cell_type": "code",
   "execution_count": 8,
   "metadata": {
    "ExecuteTime": {
     "end_time": "2023-10-11T16:45:37.391760Z",
     "start_time": "2023-10-11T16:45:37.374177Z"
    }
   },
   "outputs": [
    {
     "data": {
      "image/png": "[encoded data removed]",
      "text/plain": [
       "<Figure size 640x480 with 1 Axes>"
      ]
     },
     "metadata": {},
     "output_type": "display_data"
    }
   ],
   "source": [
    "for i in range(q):\n",
    "    Si12 = getSi12(i)\n",
    "    Si = S(Si12, t)\n",
    "    x = phi1(t)\n",
    "    y = phi2(t)\n",
    "    Sijx = np.trapz(Si * x, dx=dt)\n",
    "    Sijy = np.trapz(Si * y, dx=dt)\n",
    "    plt.scatter(Sijx, Sijy)\n",
    "\n",
    "size = int(np.sqrt(q))\n",
    "dx = 1 / size\n",
    "areas = np.linspace(-1.0 - dx, 1.0 + dx, size + 1)\n",
    "for i, val in enumerate(areas):\n",
    "    if i == 0 or i == size:\n",
    "        continue\n",
    "    plt.plot([val, val], [1.0 + dx, -1.0 - dx], color='black', linestyle='--')\n",
    "    plt.plot([1.0 + dx, -1.0 - dx], [val, val], color='black', linestyle='--')\n",
    "\n",
    "#plt.legend()\n",
    "plt.grid()\n",
    "plt.show()"
   ]
  },
  {
   "cell_type": "code",
   "execution_count": null,
   "metadata": {},
   "outputs": [],
   "source": []
  }
 ],
 "metadata": {
  "kernelspec": {
   "display_name": "Python 3 (ipykernel)",
   "language": "python",
   "name": "python3"
  },
  "language_info": {
   "codemirror_mode": {
    "name": "ipython",
    "version": 3
   },
   "file_extension": ".py",
   "mimetype": "text/x-python",
   "name": "python",
   "nbconvert_exporter": "python",
   "pygments_lexer": "ipython3",
   "version": "3.10.4"
  }
 },
 "nbformat": 4,
 "nbformat_minor": 4
}

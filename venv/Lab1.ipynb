{
 "cells": [
  {
   "cell_type": "code",
   "execution_count": null,
   "id": "8448665cad90c673",
   "metadata": {
    "collapsed": false
   },
   "outputs": [],
   "source": [
    "import numpy as np\n",
    "import matplotlib.pyplot as plt"
   ]
  },
  {
   "cell_type": "code",
   "execution_count": null,
   "id": "fd28489ca1b104a1",
   "metadata": {
    "collapsed": false
   },
   "outputs": [],
   "source": [
    "def area_under_graph(f, arg1, arg2, a, b, dx): # функция для подсчета площади под графиком\n",
    "    summa = 0\n",
    "    prev = a\n",
    "    nextt = a + dx\n",
    "    while nextt < b:\n",
    "        summa += (f(prev, arg1, arg2) + f(nextt, arg1, arg2)) * dx / 2\n",
    "        prev += dx\n",
    "        nextt += dx\n",
    "    return summa"
   ]
  },
  {
   "cell_type": "code",
   "execution_count": null,
   "id": "5ba7024495e98280",
   "metadata": {
    "collapsed": false
   },
   "outputs": [],
   "source": [
    "f0 = 2400 # несущая частота\n",
    "vmod = 600 # модуляционная скорость\n",
    "vinf = 2400 # информационная скорость\n",
    "\n",
    "Eteor = []\n",
    "Epr = []\n",
    "graph = {}"
   ]
  },
  {
   "cell_type": "code",
   "execution_count": null,
   "id": "initial_id",
   "metadata": {
    "collapsed": false,
    "is_executing": true
   },
   "outputs": [],
   "source": [
    "T = 1 / vmod\n",
    "m = math.ceil(vinf / vmod)\n",
    "q = 2 ** m\n",
    "A = 1\n",
    "N = 12\n",
    "dt = (1/f0)/N\n",
    "t = np.arange(0, T, dt)"
   ]
  },
  {
   "cell_type": "code",
   "execution_count": null,
   "id": "8e7a774f276269f2",
   "metadata": {
    "collapsed": false,
    "is_executing": true
   },
   "outputs": [],
   "source": [
    "s = lambda t, si1, si2:\\\n",
    "si1 * np.sqrt(2/T) * np.cos(2*np.pi*f0*t) +\\\n",
    "si2 * np.sqrt(2/T) * np.sin(2*np.pi*f0*t) # формула (1.8)\n",
    "\n",
    "s2 = lambda t, si1, si2:\\\n",
    "np.power(si1 * np.sqrt(2/T) * np.cos(2*np.pi*f0*t) +\\\n",
    "si2 * np.sqrt(2/T) * np.sin(2*np.pi*f0*t), 2)\n",
    "\n",
    "for i1 in range(int(np.sqrt(q))):\n",
    "    for i2 in range(int(np.sqrt(q))):\n",
    "        si1 = A*(1 - ((2*i1)/(np.sqrt(q)-1))) # формула (1.10)\n",
    "        si2 = A*(1 - ((2*i2)/(np.sqrt(q)-1))) # формула(1.10)\n",
    "        \n",
    "        Eteor.append(si1 ** 2 + si2 ** 2)\n",
    "        Epr.append(area_under_graph(s2, si1, si2 , 0, T, dt))\n",
    "        si = s(t, si1, si2) #(1.8)\n",
    "        index = i1+i2*int(np.sqrt(q))\n",
    "        graph['s{}(t)'.format(index)] = si"
   ]
  },
  {
   "cell_type": "code",
   "execution_count": null,
   "id": "1a051a8ff7f1dbab",
   "metadata": {
    "collapsed": false
   },
   "outputs": [],
   "source": [
    "graphlist = list(graph.keys())\n",
    "r16graph = graphlist[:16]\n",
    "\n",
    "fig, axs = plt.subplots(4, 4, figsize=(15,15))\n",
    "\n",
    "for i, graphi in enumerate(r16graph):\n",
    "    index = i // 4, i % 4\n",
    "    axs[index].plot(t, graph[graphi], label=graphi)\n",
    "    axs[index].set_xlabel('t, s')\n",
    "    axs[index].set_ylabel('s(t)')\n",
    "    axs[index].legend()\n",
    "    axs[index].grid()\n",
    "    \n",
    "fig.tight_layout()\n",
    "plt.plot(list(range(len(Eteor))), Eteor, label='E теоретическая')\n",
    "plt.plot(list(range(len(Epr))), Epr, label='E практическая')\n",
    "plt.xlabel('№ сигнала')\n",
    "plt.ylabel('E')\n",
    "plt.legend()\n",
    "plt.grid()\n",
    "plt.show()"
   ]
  }
 ],
 "metadata": {
  "kernelspec": {
   "display_name": "Python 3 (ipykernel)",
   "language": "python",
   "name": "python3"
  },
  "language_info": {
   "codemirror_mode": {
    "name": "ipython",
    "version": 3
   },
   "file_extension": ".py",
   "mimetype": "text/x-python",
   "name": "python",
   "nbconvert_exporter": "python",
   "pygments_lexer": "ipython3",
   "version": "3.10.4"
  }
 },
 "nbformat": 4,
 "nbformat_minor": 5
}

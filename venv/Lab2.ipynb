{
 "cells": [
  {
   "cell_type": "code",
   "execution_count": 1,
   "id": "9fe62ea9",
   "metadata": {
    "ExecuteTime": {
     "end_time": "2023-10-11T16:44:25.418785Z",
     "start_time": "2023-10-11T16:44:25.244277Z"
    }
   },
   "outputs": [
    {
     "ename": "ModuleNotFoundError",
     "evalue": "No module named 'numpy'",
     "output_type": "error",
     "traceback": [
      "\u001B[0;31m---------------------------------------------------------------------------\u001B[0m",
      "\u001B[0;31mModuleNotFoundError\u001B[0m                       Traceback (most recent call last)",
      "Cell \u001B[0;32mIn[1], line 1\u001B[0m\n\u001B[0;32m----> 1\u001B[0m \u001B[38;5;28;01mimport\u001B[39;00m \u001B[38;5;21;01mnumpy\u001B[39;00m \u001B[38;5;28;01mas\u001B[39;00m \u001B[38;5;21;01mnp\u001B[39;00m\n\u001B[1;32m      2\u001B[0m \u001B[38;5;28;01mimport\u001B[39;00m \u001B[38;5;21;01mmatplotlib\u001B[39;00m\u001B[38;5;21;01m.\u001B[39;00m\u001B[38;5;21;01mpyplot\u001B[39;00m \u001B[38;5;28;01mas\u001B[39;00m \u001B[38;5;21;01mplt\u001B[39;00m\n\u001B[1;32m      3\u001B[0m \u001B[38;5;28;01mimport\u001B[39;00m \u001B[38;5;21;01mmath\u001B[39;00m\n",
      "\u001B[0;31mModuleNotFoundError\u001B[0m: No module named 'numpy'"
     ]
    }
   ],
   "source": [
    "import numpy as np\n",
    "import matplotlib.pyplot as plt\n",
    "import math"
   ]
  },
  {
   "cell_type": "code",
   "execution_count": 233,
   "id": "fcb49872",
   "metadata": {
    "ExecuteTime": {
     "end_time": "2023-10-05T20:34:53.946621Z",
     "start_time": "2023-10-05T20:34:53.930324Z"
    }
   },
   "outputs": [],
   "source": [
    "f0 = 2400 #Гц\n",
    "Vmod = 600 #Бод\n",
    "Vinf = 2400 #бит/с\n",
    "\n",
    "T = 1 / Vmod\n",
    "m = math.ceil(Vinf / Vmod)\n",
    "q = 2 ** m \n",
    "\n",
    "A = 1 \n",
    "N = 12 \n",
    "dt = (1/f0)/N\n",
    "W = 2 / T #ширина полосы частот\n",
    "f = np.arange(0, 4*W, 1)\n",
    "n = 16\n",
    "Wi = 2 / (n*T) #Ширина полосы частот для последовательности сигналов\n",
    "fi = np.arange(0, Wi, 1)"
   ]
  },
  {
   "cell_type": "code",
   "execution_count": 2,
   "id": "64c99ec5",
   "metadata": {
    "ExecuteTime": {
     "end_time": "2023-10-11T16:46:39.893023Z",
     "start_time": "2023-10-11T16:46:39.872562Z"
    }
   },
   "outputs": [],
   "source": [
    "def getSi12(i): #Получение коэффициентов по номеру сигнала\n",
    "    i1 = i // np.sqrt(q)\n",
    "    i2 = i % np.sqrt(q)\n",
    "    si1 = A*(1 - ((2*i1)/(np.sqrt(q)-1)))\n",
    "    si2 = A*(1 - ((2*i2)/(np.sqrt(q)-1)))\n",
    "    return si1, si2\n",
    "    \n",
    "#Преобразование Фурье - спектр последовательности сигналов\n",
    "S = lambda si, f, l:(si[0] * np.sqrt(T / 2) * \\\n",
    "                    (np.sinc((f - f0) * T) + \\\n",
    "                    np.sinc((f + f0) * T)) * \\\n",
    "                    np.exp(-1j * np.pi * f * T) + \\\n",
    "                    (si[1] / 1j) * np.sqrt(T / 2) * \\\n",
    "                    (np.sinc((f - f0) * T) - \\\n",
    "                    np.sinc((f + f0) * T)) * \\\n",
    "                    np.exp(-1j * np.pi * f * T)) * \\\n",
    "                    np.exp(-2j * np.pi * f * l * T) "
   ]
  },
  {
   "cell_type": "code",
   "execution_count": 3,
   "id": "43faa202",
   "metadata": {
    "ExecuteTime": {
     "end_time": "2023-10-11T16:46:40.483650Z",
     "start_time": "2023-10-11T16:46:40.377605Z"
    }
   },
   "outputs": [
    {
     "ename": "NameError",
     "evalue": "name 'plt' is not defined",
     "output_type": "error",
     "traceback": [
      "\u001B[0;31m---------------------------------------------------------------------------\u001B[0m",
      "\u001B[0;31mNameError\u001B[0m                                 Traceback (most recent call last)",
      "Cell \u001B[0;32mIn[3], line 1\u001B[0m\n\u001B[0;32m----> 1\u001B[0m fig, axs \u001B[38;5;241m=\u001B[39m \u001B[43mplt\u001B[49m\u001B[38;5;241m.\u001B[39msubplots(\u001B[38;5;241m4\u001B[39m, \u001B[38;5;241m4\u001B[39m, figsize\u001B[38;5;241m=\u001B[39m(\u001B[38;5;241m20\u001B[39m,\u001B[38;5;241m30\u001B[39m))\n\u001B[1;32m      3\u001B[0m k \u001B[38;5;241m=\u001B[39m \u001B[38;5;241m0\u001B[39m\n\u001B[1;32m      5\u001B[0m \u001B[38;5;28;01mfor\u001B[39;00m i \u001B[38;5;129;01min\u001B[39;00m \u001B[38;5;28mrange\u001B[39m(\u001B[38;5;241m4\u001B[39m):\n",
      "\u001B[0;31mNameError\u001B[0m: name 'plt' is not defined"
     ]
    }
   ],
   "source": [
    "fig, axs = plt.subplots(4, 4, figsize=(20,30))\n",
    "\n",
    "k = 0\n",
    "\n",
    "for i in range(4):\n",
    "    for j in range (4):\n",
    "        axs[i, j].plot(f, abs(S(getSi12(i), f, 1)), label='s{}(f)'.format(k))\n",
    "        axs[i, j].set_xlabel('f, Гц')\n",
    "        axs[i, j].set_ylabel('s{}(f)'.format(k))\n",
    "        axs[i, j].legend()\n",
    "        axs[i, j].grid()\n",
    "        k += 1\n",
    "    \n",
    "fig.tight_layout()"
   ]
  },
  {
   "cell_type": "code",
   "execution_count": 4,
   "id": "01fa7d36",
   "metadata": {
    "ExecuteTime": {
     "end_time": "2023-10-11T16:46:42.203773Z",
     "start_time": "2023-10-11T16:46:42.194674Z"
    }
   },
   "outputs": [
    {
     "name": "stdout",
     "output_type": "stream",
     "text": [
      "[1, 6]\n"
     ]
    }
   ],
   "source": [
    "#Si = np.random.randint(q, size=2)\n",
    "Si = [1,6]\n",
    "#Si = [0,0]\n",
    "print(Si)"
   ]
  },
  {
   "cell_type": "code",
   "execution_count": 5,
   "id": "253a3a89",
   "metadata": {
    "ExecuteTime": {
     "end_time": "2023-10-11T16:46:43.027501Z",
     "start_time": "2023-10-11T16:46:43.005737Z"
    }
   },
   "outputs": [
    {
     "ename": "NameError",
     "evalue": "name 'np' is not defined",
     "output_type": "error",
     "traceback": [
      "\u001B[0;31m---------------------------------------------------------------------------\u001B[0m",
      "\u001B[0;31mNameError\u001B[0m                                 Traceback (most recent call last)",
      "Cell \u001B[0;32mIn[5], line 5\u001B[0m\n\u001B[1;32m      3\u001B[0m S_perv \u001B[38;5;241m=\u001B[39m \u001B[38;5;241m0\u001B[39m\n\u001B[1;32m      4\u001B[0m \u001B[38;5;28;01mfor\u001B[39;00m l, si \u001B[38;5;129;01min\u001B[39;00m \u001B[38;5;28menumerate\u001B[39m(Si):\n\u001B[0;32m----> 5\u001B[0m     Ssum \u001B[38;5;241m+\u001B[39m\u001B[38;5;241m=\u001B[39m S(\u001B[43mgetSi12\u001B[49m\u001B[43m(\u001B[49m\u001B[43msi\u001B[49m\u001B[43m)\u001B[49m, f, l) \u001B[38;5;66;03m#суммирование сигналов одной последовательности\u001B[39;00m\n\u001B[1;32m      6\u001B[0m     S_perv \u001B[38;5;241m+\u001B[39m\u001B[38;5;241m=\u001B[39m S(getSi12(\u001B[38;5;241m0\u001B[39m), f, \u001B[38;5;241m1\u001B[39m) \u001B[38;5;66;03m#S(getSi12(i), f, 1)\u001B[39;00m\n",
      "Cell \u001B[0;32mIn[2], line 2\u001B[0m, in \u001B[0;36mgetSi12\u001B[0;34m(i)\u001B[0m\n\u001B[1;32m      1\u001B[0m \u001B[38;5;28;01mdef\u001B[39;00m \u001B[38;5;21mgetSi12\u001B[39m(i): \u001B[38;5;66;03m#Получение коэффициентов по номеру сигнала\u001B[39;00m\n\u001B[0;32m----> 2\u001B[0m     i1 \u001B[38;5;241m=\u001B[39m i \u001B[38;5;241m/\u001B[39m\u001B[38;5;241m/\u001B[39m \u001B[43mnp\u001B[49m\u001B[38;5;241m.\u001B[39msqrt(q)\n\u001B[1;32m      3\u001B[0m     i2 \u001B[38;5;241m=\u001B[39m i \u001B[38;5;241m%\u001B[39m np\u001B[38;5;241m.\u001B[39msqrt(q)\n\u001B[1;32m      4\u001B[0m     si1 \u001B[38;5;241m=\u001B[39m A\u001B[38;5;241m*\u001B[39m(\u001B[38;5;241m1\u001B[39m \u001B[38;5;241m-\u001B[39m ((\u001B[38;5;241m2\u001B[39m\u001B[38;5;241m*\u001B[39mi1)\u001B[38;5;241m/\u001B[39m(np\u001B[38;5;241m.\u001B[39msqrt(q)\u001B[38;5;241m-\u001B[39m\u001B[38;5;241m1\u001B[39m)))\n",
      "\u001B[0;31mNameError\u001B[0m: name 'np' is not defined"
     ]
    }
   ],
   "source": [
    "#Вывод выражения 2.10(спектр последовательности сигналов)\n",
    "Ssum = 0\n",
    "S_perv = 0\n",
    "for l, si in enumerate(Si):\n",
    "    Ssum += S(getSi12(si), f, l) #суммирование сигналов одной последовательности\n",
    "    S_perv += S(getSi12(0), f, 1) #S(getSi12(i), f, 1)"
   ]
  },
  {
   "cell_type": "code",
   "execution_count": 6,
   "id": "397da31a",
   "metadata": {
    "ExecuteTime": {
     "end_time": "2023-10-11T16:46:43.620184Z",
     "start_time": "2023-10-11T16:46:43.607186Z"
    }
   },
   "outputs": [
    {
     "ename": "NameError",
     "evalue": "name 'plt' is not defined",
     "output_type": "error",
     "traceback": [
      "\u001B[0;31m---------------------------------------------------------------------------\u001B[0m",
      "\u001B[0;31mNameError\u001B[0m                                 Traceback (most recent call last)",
      "Cell \u001B[0;32mIn[6], line 1\u001B[0m\n\u001B[0;32m----> 1\u001B[0m \u001B[43mplt\u001B[49m\u001B[38;5;241m.\u001B[39mplot(f, np\u001B[38;5;241m.\u001B[39mabs(S_perv),label\u001B[38;5;241m=\u001B[39m\u001B[38;5;124m'\u001B[39m\u001B[38;5;124mамплитудный спектр\u001B[39m\u001B[38;5;124m'\u001B[39m)\n\u001B[1;32m      2\u001B[0m plt\u001B[38;5;241m.\u001B[39mplot(f, np\u001B[38;5;241m.\u001B[39mabs(Ssum), label\u001B[38;5;241m=\u001B[39m\u001B[38;5;124m'\u001B[39m\u001B[38;5;124mспектр последовательности сигналов \u001B[39m\u001B[38;5;124m'\u001B[39m)\n\u001B[1;32m      3\u001B[0m plt\u001B[38;5;241m.\u001B[39mxlabel(\u001B[38;5;124m'\u001B[39m\u001B[38;5;124mf, Гц\u001B[39m\u001B[38;5;124m'\u001B[39m)\n",
      "\u001B[0;31mNameError\u001B[0m: name 'plt' is not defined"
     ]
    }
   ],
   "source": [
    "plt.plot(f, np.abs(S_perv),label='амплитудный спектр')\n",
    "plt.plot(f, np.abs(Ssum), label='спектр последовательности сигналов ')\n",
    "plt.xlabel('f, Гц')\n",
    "plt.ylabel('s(f)')\n",
    "plt.legend(loc = 'upper left')\n",
    "plt.grid()\n",
    "plt.show()"
   ]
  },
  {
   "cell_type": "code",
   "execution_count": 7,
   "id": "ff389523-5b24-4069-9125-1f358b1ac89d",
   "metadata": {
    "ExecuteTime": {
     "end_time": "2023-10-11T16:46:44.422170Z",
     "start_time": "2023-10-11T16:46:44.412324Z"
    }
   },
   "outputs": [
    {
     "ename": "NameError",
     "evalue": "name 'np' is not defined",
     "output_type": "error",
     "traceback": [
      "\u001B[0;31m---------------------------------------------------------------------------\u001B[0m",
      "\u001B[0;31mNameError\u001B[0m                                 Traceback (most recent call last)",
      "Cell \u001B[0;32mIn[7], line 1\u001B[0m\n\u001B[0;32m----> 1\u001B[0m Si \u001B[38;5;241m=\u001B[39m \u001B[43mnp\u001B[49m\u001B[38;5;241m.\u001B[39mrandom\u001B[38;5;241m.\u001B[39mrandint(q, size\u001B[38;5;241m=\u001B[39m\u001B[38;5;241m3\u001B[39m)\n\u001B[1;32m      2\u001B[0m \u001B[38;5;66;03m#Si = [0,15]\u001B[39;00m\n\u001B[1;32m      3\u001B[0m \u001B[38;5;28mprint\u001B[39m(Si)\n",
      "\u001B[0;31mNameError\u001B[0m: name 'np' is not defined"
     ]
    }
   ],
   "source": [
    "Si = np.random.randint(q, size=3)\n",
    "#Si = [0,15]\n",
    "print(Si)"
   ]
  },
  {
   "cell_type": "code",
   "execution_count": 8,
   "id": "a41eff24-b55e-4a23-bea1-075c4e13ed66",
   "metadata": {
    "ExecuteTime": {
     "end_time": "2023-10-11T16:46:44.892345Z",
     "start_time": "2023-10-11T16:46:44.887787Z"
    }
   },
   "outputs": [
    {
     "ename": "NameError",
     "evalue": "name 'np' is not defined",
     "output_type": "error",
     "traceback": [
      "\u001B[0;31m---------------------------------------------------------------------------\u001B[0m",
      "\u001B[0;31mNameError\u001B[0m                                 Traceback (most recent call last)",
      "Cell \u001B[0;32mIn[8], line 5\u001B[0m\n\u001B[1;32m      3\u001B[0m S_perv \u001B[38;5;241m=\u001B[39m \u001B[38;5;241m0\u001B[39m\n\u001B[1;32m      4\u001B[0m \u001B[38;5;28;01mfor\u001B[39;00m l, si \u001B[38;5;129;01min\u001B[39;00m \u001B[38;5;28menumerate\u001B[39m(Si):\n\u001B[0;32m----> 5\u001B[0m     Ssum \u001B[38;5;241m+\u001B[39m\u001B[38;5;241m=\u001B[39m S(\u001B[43mgetSi12\u001B[49m\u001B[43m(\u001B[49m\u001B[43msi\u001B[49m\u001B[43m)\u001B[49m, f, l) \u001B[38;5;66;03m#суммирование сигналов одной последовательности\u001B[39;00m\n\u001B[1;32m      6\u001B[0m     S_perv \u001B[38;5;241m+\u001B[39m\u001B[38;5;241m=\u001B[39m S(getSi12(\u001B[38;5;241m0\u001B[39m), f, \u001B[38;5;241m1\u001B[39m)\n",
      "Cell \u001B[0;32mIn[2], line 2\u001B[0m, in \u001B[0;36mgetSi12\u001B[0;34m(i)\u001B[0m\n\u001B[1;32m      1\u001B[0m \u001B[38;5;28;01mdef\u001B[39;00m \u001B[38;5;21mgetSi12\u001B[39m(i): \u001B[38;5;66;03m#Получение коэффициентов по номеру сигнала\u001B[39;00m\n\u001B[0;32m----> 2\u001B[0m     i1 \u001B[38;5;241m=\u001B[39m i \u001B[38;5;241m/\u001B[39m\u001B[38;5;241m/\u001B[39m \u001B[43mnp\u001B[49m\u001B[38;5;241m.\u001B[39msqrt(q)\n\u001B[1;32m      3\u001B[0m     i2 \u001B[38;5;241m=\u001B[39m i \u001B[38;5;241m%\u001B[39m np\u001B[38;5;241m.\u001B[39msqrt(q)\n\u001B[1;32m      4\u001B[0m     si1 \u001B[38;5;241m=\u001B[39m A\u001B[38;5;241m*\u001B[39m(\u001B[38;5;241m1\u001B[39m \u001B[38;5;241m-\u001B[39m ((\u001B[38;5;241m2\u001B[39m\u001B[38;5;241m*\u001B[39mi1)\u001B[38;5;241m/\u001B[39m(np\u001B[38;5;241m.\u001B[39msqrt(q)\u001B[38;5;241m-\u001B[39m\u001B[38;5;241m1\u001B[39m)))\n",
      "\u001B[0;31mNameError\u001B[0m: name 'np' is not defined"
     ]
    }
   ],
   "source": [
    "#Вывод выражения 2.10(спектр последовательности сигналов)\n",
    "Ssum = 0\n",
    "S_perv = 0\n",
    "for l, si in enumerate(Si):\n",
    "    Ssum += S(getSi12(si), f, l) #суммирование сигналов одной последовательности\n",
    "    S_perv += S(getSi12(0), f, 1)"
   ]
  },
  {
   "cell_type": "code",
   "execution_count": 9,
   "id": "cd788ff2-f1c4-4bfd-b4c6-234af898da3a",
   "metadata": {
    "ExecuteTime": {
     "end_time": "2023-10-11T16:46:45.456270Z",
     "start_time": "2023-10-11T16:46:45.453713Z"
    }
   },
   "outputs": [
    {
     "ename": "NameError",
     "evalue": "name 'plt' is not defined",
     "output_type": "error",
     "traceback": [
      "\u001B[0;31m---------------------------------------------------------------------------\u001B[0m",
      "\u001B[0;31mNameError\u001B[0m                                 Traceback (most recent call last)",
      "Cell \u001B[0;32mIn[9], line 1\u001B[0m\n\u001B[0;32m----> 1\u001B[0m \u001B[43mplt\u001B[49m\u001B[38;5;241m.\u001B[39mplot(f, np\u001B[38;5;241m.\u001B[39mabs(S_perv), label\u001B[38;5;241m=\u001B[39m\u001B[38;5;124m'\u001B[39m\u001B[38;5;124mаплитудный спектр\u001B[39m\u001B[38;5;124m'\u001B[39m)\n\u001B[1;32m      2\u001B[0m plt\u001B[38;5;241m.\u001B[39mplot(f, np\u001B[38;5;241m.\u001B[39mabs(Ssum), label\u001B[38;5;241m=\u001B[39m\u001B[38;5;124m'\u001B[39m\u001B[38;5;124mспектр последовательности сигналов \u001B[39m\u001B[38;5;124m'\u001B[39m)\n\u001B[1;32m      3\u001B[0m plt\u001B[38;5;241m.\u001B[39mxlabel(\u001B[38;5;124m'\u001B[39m\u001B[38;5;124mf, Гц\u001B[39m\u001B[38;5;124m'\u001B[39m)\n",
      "\u001B[0;31mNameError\u001B[0m: name 'plt' is not defined"
     ]
    }
   ],
   "source": [
    "plt.plot(f, np.abs(S_perv), label='аплитудный спектр')\n",
    "plt.plot(f, np.abs(Ssum), label='спектр последовательности сигналов ')\n",
    "plt.xlabel('f, Гц')\n",
    "plt.ylabel('s(f)')\n",
    "plt.legend(loc = 'upper left')\n",
    "plt.grid()\n",
    "plt.show()"
   ]
  }
 ],
 "metadata": {
  "kernelspec": {
   "display_name": "Python 3 (ipykernel)",
   "language": "python",
   "name": "python3"
  },
  "language_info": {
   "codemirror_mode": {
    "name": "ipython",
    "version": 3
   },
   "file_extension": ".py",
   "mimetype": "text/x-python",
   "name": "python",
   "nbconvert_exporter": "python",
   "pygments_lexer": "ipython3",
   "version": "3.10.4"
  }
 },
 "nbformat": 4,
 "nbformat_minor": 5
}
